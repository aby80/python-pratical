{
 "cells": [
  {
   "cell_type": "markdown",
   "metadata": {
    "id": "LPINvDFo9Nce"
   },
   "source": [
    "\n",
    "\n",
    "    \n",
    "#    <center> <b> <span style=\"color:orange;\" >  `Python for Scientific Computing and Software Engineering ` </span> </b></center>\n",
    "\n",
    "\n",
    "## <center> <b> <span style=\"color:orange;\"> An Initiation to Programming using Python (Init2Py) </span> </b></center>\n",
    "\n",
    "### <center> <b> <span style=\"color:blue;\"> Travaux Pratiques: Loops</span> </b></center>\n",
    "\n",
    "\n",
    "\n",
    "\n",
    "\n",
    "\n",
    "\n"
   ]
  },
  {
   "cell_type": "markdown",
   "metadata": {
    "id": "0vAKMUYl9Nc1"
   },
   "source": [
    "#### Exercice 0\n",
    ">On se propose de résoudre dans l'ensemble des entiers naturels l'inéquation $2n(n+1)<100$.\n",
    "En utilisant une boucle **While**, écris un programme qui renvoie les solutions entières de cette inéquation."
   ]
  },
  {
   "cell_type": "code",
   "execution_count": 3,
   "metadata": {
    "id": "tnXJLyHA9Nc4"
   },
   "outputs": [
    {
     "name": "stdout",
     "output_type": "stream",
     "text": [
      "The value of x is  4\n",
      "The value of x is  12\n",
      "The value of x is  24\n",
      "The value of x is  40\n",
      "The value of x is  60\n",
      "The value of x is  84\n",
      "The value of x is  112\n",
      "The value of x is  144\n",
      "The value of x is  180\n",
      "The value of x is  220\n",
      "The value of x is  264\n",
      "The value of x is  312\n",
      "The value of x is  364\n",
      "The value of x is  420\n",
      "The value of x is  480\n",
      "The value of x is  544\n",
      "The value of x is  612\n",
      "The value of x is  684\n",
      "The value of x is  760\n",
      "The value of x is  840\n",
      "The value of x is  924\n",
      "The value of x is  1012\n",
      "The value of x is  1104\n",
      "The value of x is  1200\n",
      "The value of x is  1300\n",
      "The value of x is  1404\n",
      "The value of x is  1512\n",
      "The value of x is  1624\n",
      "The value of x is  1740\n",
      "The value of x is  1860\n",
      "The value of x is  1984\n",
      "The value of x is  2112\n",
      "The value of x is  2244\n",
      "The value of x is  2380\n",
      "The value of x is  2520\n",
      "The value of x is  2664\n",
      "The value of x is  2812\n",
      "The value of x is  2964\n",
      "The value of x is  3120\n",
      "The value of x is  3280\n",
      "The value of x is  3444\n",
      "The value of x is  3612\n",
      "The value of x is  3784\n",
      "The value of x is  3960\n",
      "The value of x is  4140\n",
      "The value of x is  4324\n",
      "The value of x is  4512\n",
      "The value of x is  4704\n",
      "The value of x is  4900\n",
      "The value of x is  5100\n",
      "The value of x is  5304\n",
      "The value of x is  5512\n",
      "The value of x is  5724\n",
      "The value of x is  5940\n",
      "The value of x is  6160\n",
      "The value of x is  6384\n",
      "The value of x is  6612\n",
      "The value of x is  6844\n",
      "The value of x is  7080\n",
      "The value of x is  7320\n",
      "The value of x is  7564\n",
      "The value of x is  7812\n",
      "The value of x is  8064\n",
      "The value of x is  8320\n",
      "The value of x is  8580\n",
      "The value of x is  8844\n",
      "The value of x is  9112\n",
      "The value of x is  9384\n",
      "The value of x is  9660\n",
      "The value of x is  9940\n",
      "The value of x is  10224\n",
      "The value of x is  10512\n",
      "The value of x is  10804\n",
      "The value of x is  11100\n",
      "The value of x is  11400\n",
      "The value of x is  11704\n",
      "The value of x is  12012\n",
      "The value of x is  12324\n",
      "The value of x is  12640\n",
      "The value of x is  12960\n",
      "The value of x is  13284\n",
      "The value of x is  13612\n",
      "The value of x is  13944\n",
      "The value of x is  14280\n",
      "The value of x is  14620\n",
      "The value of x is  14964\n",
      "The value of x is  15312\n",
      "The value of x is  15664\n",
      "The value of x is  16020\n",
      "The value of x is  16380\n",
      "The value of x is  16744\n",
      "The value of x is  17112\n",
      "The value of x is  17484\n",
      "The value of x is  17860\n",
      "The value of x is  18240\n",
      "The value of x is  18624\n",
      "The value of x is  19012\n",
      "The value of x is  19404\n",
      "The value of x is  19800\n"
     ]
    }
   ],
   "source": [
    "n = 1 # Initialisation of the variable x\n",
    "while (n < 100):\n",
    "    x=2*n*(n+1)\n",
    "    print('The value of x is ', x)\n"
   ]
  },
  {
   "cell_type": "markdown",
   "metadata": {
    "id": "USaieP9c9Nc5"
   },
   "source": [
    "#### Exercice 1\n",
    "> En utilisant une boucle **For**, écris un programme qui calcule la somme des 30 premiers entiers naturels non nuls."
   ]
  },
  {
   "cell_type": "code",
   "execution_count": 13,
   "metadata": {
    "id": "-a76WFyH9Nc7"
   },
   "outputs": [
    {
     "name": "stdout",
     "output_type": "stream",
     "text": [
      "2\n",
      "4\n",
      "7\n",
      "11\n",
      "16\n",
      "22\n",
      "29\n",
      "37\n",
      "46\n",
      "56\n",
      "67\n",
      "79\n",
      "92\n",
      "106\n",
      "121\n",
      "137\n",
      "154\n",
      "172\n",
      "191\n",
      "211\n",
      "232\n",
      "254\n",
      "277\n",
      "301\n",
      "326\n",
      "352\n",
      "379\n",
      "407\n",
      "436\n"
     ]
    }
   ],
   "source": [
    "n=1\n",
    "for i in range (1,30):\n",
    "    n=n+i\n",
    "    print(n)\n",
    "    #n = n+1"
   ]
  },
  {
   "cell_type": "markdown",
   "metadata": {
    "id": "_070Czs09Nc8"
   },
   "source": [
    "#### Exercice 2\n",
    ">Refais l'exercice 1 en utilisant une boucle **While**."
   ]
  },
  {
   "cell_type": "code",
   "execution_count": 9,
   "metadata": {
    "id": "m7dg2bhR9Nc9"
   },
   "outputs": [
    {
     "name": "stdout",
     "output_type": "stream",
     "text": [
      "the value of x is 1\n",
      "the value of x is 1\n",
      "the value of x is 1\n",
      "the value of x is 1\n",
      "the value of x is 1\n",
      "the value of x is 1\n",
      "the value of x is 1\n",
      "the value of x is 1\n",
      "the value of x is 1\n",
      "the value of x is 1\n",
      "the value of x is 1\n",
      "the value of x is 1\n",
      "the value of x is 1\n",
      "the value of x is 1\n",
      "the value of x is 1\n",
      "the value of x is 1\n",
      "the value of x is 1\n",
      "the value of x is 1\n",
      "the value of x is 1\n",
      "the value of x is 1\n",
      "the value of x is 1\n",
      "the value of x is 1\n",
      "the value of x is 1\n",
      "the value of x is 1\n",
      "the value of x is 1\n",
      "the value of x is 1\n",
      "the value of x is 1\n",
      "the value of x is 1\n",
      "the value of x is 1\n"
     ]
    }
   ],
   "source": [
    "i = 1 # Initialisation of the variable x\n",
    "while (i < 30):\n",
    "    i=i+1\n",
    "    print('the value of x is',n)\n",
    " \n"
   ]
  },
  {
   "cell_type": "markdown",
   "metadata": {
    "id": "Hg1vBggc9Nc_"
   },
   "source": [
    "#### Exercice 3\n",
    ">En utilisant une boucle **For**, écris un programme qui calcule le produit des 9 premiers entiers naturels non nuls."
   ]
  },
  {
   "cell_type": "code",
   "execution_count": 3,
   "metadata": {
    "id": "h0TkyvqS9NdB"
   },
   "outputs": [
    {
     "name": "stdout",
     "output_type": "stream",
     "text": [
      "1\n",
      "2\n",
      "6\n",
      "24\n",
      "120\n",
      "720\n",
      "5040\n",
      "40320\n",
      "362880\n"
     ]
    }
   ],
   "source": [
    "n=1\n",
    "for i in range (1,10):\n",
    "    n=n*i\n",
    "    print(n)"
   ]
  },
  {
   "cell_type": "markdown",
   "metadata": {
    "id": "a2iZm5y_9NdD"
   },
   "source": [
    "#### Exercice 4\n",
    "> Refais l'exercice 3 en utilisant une boucle **While**."
   ]
  },
  {
   "cell_type": "code",
   "execution_count": 4,
   "metadata": {},
   "outputs": [
    {
     "name": "stdout",
     "output_type": "stream",
     "text": [
      "1\n",
      "2\n",
      "6\n",
      "24\n",
      "120\n",
      "720\n",
      "5040\n",
      "40320\n",
      "362880\n"
     ]
    }
   ],
   "source": [
    "prod=1\n",
    "n=9\n",
    "i=1\n",
    "while i<=n:\n",
    "    prod=prod*i\n",
    "    print(prod)\n",
    "    i=i+1"
   ]
  },
  {
   "cell_type": "markdown",
   "metadata": {
    "id": "rb3k7Bve9NdE"
   },
   "source": [
    "#### Exercice 5 \n",
    ">Écris un programme qui demande à l'utilisateur de saisir un nombre n et qui affiche tous les nombres pairs de $1$ à $n$ en utilisant la boucle **For**."
   ]
  },
  {
   "cell_type": "code",
   "execution_count": 17,
   "metadata": {
    "id": "ibXs9RCB9NdF"
   },
   "outputs": [
    {
     "name": "stdout",
     "output_type": "stream",
     "text": [
      "donner un nombre: 10\n",
      "le nombre 2 est paire\n",
      "le nombre 4 est paire\n",
      "le nombre 6 est paire\n",
      "le nombre 8 est paire\n",
      "le nombre 10 est paire\n"
     ]
    }
   ],
   "source": [
    "n=int(input('donner un nombre: '))\n",
    "for i in range(1,n+1):\n",
    "    if i%2==0:\n",
    "        print('le nombre',i,'est paire')\n",
    " "
   ]
  },
  {
   "cell_type": "markdown",
   "metadata": {
    "id": "HPC3bfyE9NdG"
   },
   "source": [
    "#### Exercice 6\n",
    ">Refais l'exercice 5 en utilisant la boucle **While**."
   ]
  },
  {
   "cell_type": "code",
   "execution_count": 2,
   "metadata": {
    "id": "dRuTyo3m9NdH"
   },
   "outputs": [
    {
     "name": "stdout",
     "output_type": "stream",
     "text": [
      "donner un nombre: 2\n",
      "le nombre 2 est paire\n",
      "le nombre 4 est paire\n",
      "le nombre 6 est paire\n",
      "le nombre 8 est paire\n",
      "le nombre 10 est paire\n"
     ]
    }
   ],
   "source": [
    "a=int(input('donner un nombre: '))\n",
    "while a <= 10: \n",
    "    if a%2==0: \n",
    "        print('le nombre',a,'est paire') \n",
    "    a=a+1"
   ]
  },
  {
   "cell_type": "markdown",
   "metadata": {
    "id": "6fNPIIdQ9NdH"
   },
   "source": [
    "#### Exercice 7\n",
    ">Écris un programme qui demande à l'utilisateur de saisir un nombre n et qui affiche tous les nombres impairs de 1 à n en utilisant la boucle **For**."
   ]
  },
  {
   "cell_type": "code",
   "execution_count": 18,
   "metadata": {
    "id": "LuVEv9Lc9NdI"
   },
   "outputs": [
    {
     "name": "stdout",
     "output_type": "stream",
     "text": [
      "donner un nombre: 11\n",
      "le nombre 1 est impaire\n",
      "le nombre 3 est impaire\n",
      "le nombre 5 est impaire\n",
      "le nombre 7 est impaire\n",
      "le nombre 9 est impaire\n",
      "le nombre 11 est impaire\n"
     ]
    }
   ],
   "source": [
    "n=int(input('donner un nombre: '))\n",
    "for i in range(1,n+1):\n",
    "    if i%2!=0:\n",
    "        print('le nombre',i,'est impaire')"
   ]
  },
  {
   "cell_type": "markdown",
   "metadata": {
    "id": "HIlapsJ89NdK"
   },
   "source": [
    "#### Exercice 8\n",
    ">Refais l'exercice 7 en utilisant la boucle **While**.\n",
    "\n"
   ]
  },
  {
   "cell_type": "code",
   "execution_count": 1,
   "metadata": {
    "id": "Igvjeb2E9NdM"
   },
   "outputs": [
    {
     "name": "stdout",
     "output_type": "stream",
     "text": [
      "donner un nombre: 11\n"
     ]
    }
   ],
   "source": [
    "a=int(input('donner un nombre: '))\n",
    "while a <= 10: \n",
    "    if a%2 != 0: \n",
    "        print('le nombre',a,'est impaire') \n",
    "    a=a+1"
   ]
  },
  {
   "cell_type": "code",
   "execution_count": 6,
   "metadata": {},
   "outputs": [
    {
     "name": "stdout",
     "output_type": "stream",
     "text": [
      " entrez un nombre : 11\n",
      "pair\n"
     ]
    }
   ],
   "source": []
  },
  {
   "cell_type": "markdown",
   "metadata": {
    "id": "KOYLg_e79NdU"
   },
   "source": [
    "#### Exercice 9\n",
    ">Écris un programme qui demande à l'utilisateur de saisir un nombre n et qui affiche sa table de multiplication  en utilisant la boucle **For**."
   ]
  },
  {
   "cell_type": "code",
   "execution_count": 14,
   "metadata": {
    "id": "BvOU9oLw9NdU"
   },
   "outputs": [
    {
     "name": "stdout",
     "output_type": "stream",
     "text": [
      "donner un nombre: 4\n",
      "1 x 1 = 1\n",
      "2 x 2 = 4\n",
      "3 x 3 = 9\n",
      "4 x 4 = 16\n",
      "5 x 5 = 25\n",
      "6 x 6 = 36\n",
      "7 x 7 = 49\n",
      "8 x 8 = 64\n",
      "9 x 9 = 81\n",
      "10 x 10 = 100\n",
      "11 x 11 = 121\n",
      "12 x 12 = 144\n",
      "13 x 13 = 169\n",
      "14 x 14 = 196\n",
      "15 x 15 = 225\n",
      "16 x 16 = 256\n",
      "17 x 17 = 289\n",
      "18 x 18 = 324\n",
      "19 x 19 = 361\n"
     ]
    }
   ],
   "source": [
    "n=int(input('donner un nombre: '))\n",
    "n=1\n",
    "for i in range(1,20) :\n",
    "    v = i*n\n",
    "    print(n, 'x', n, '=', v, sep =' ')\n",
    "    n = n +1"
   ]
  },
  {
   "cell_type": "markdown",
   "metadata": {
    "id": "Ukzy78L09NdV"
   },
   "source": [
    "#### Exercice 10\n",
    ">Refais l'exercice 9 en utilisant la boucle **While**."
   ]
  },
  {
   "cell_type": "code",
   "execution_count": 1,
   "metadata": {
    "id": "fRJ3oufC9NdV"
   },
   "outputs": [
    {
     "name": "stdout",
     "output_type": "stream",
     "text": [
      "donner un nombre:4\n",
      "4 x 1 = 4\n",
      "4 x 2 = 8\n",
      "4 x 3 = 12\n",
      "4 x 4 = 16\n",
      "4 x 5 = 20\n",
      "4 x 6 = 24\n",
      "4 x 7 = 28\n",
      "4 x 8 = 32\n",
      "4 x 9 = 36\n",
      "4 x 10 = 40\n"
     ]
    }
   ],
   "source": [
    "n1=int(input('donner un nombre:'))\n",
    "i=1\n",
    "while i <=10 :\n",
    "    v = n1*i\n",
    "    print(n1, 'x', i, '=', v, sep =' ')\n",
    "    i = i + 1"
   ]
  },
  {
   "cell_type": "markdown",
   "metadata": {
    "id": "AQW435Hq9NdW"
   },
   "source": [
    "#### Exercice 11\n",
    ">Écris un programme qui demande à l'utilisateur d'entrer un nombre et de trouver tous ses diviseurs  en utilisant la boucle **For**."
   ]
  },
  {
   "cell_type": "code",
   "execution_count": 15,
   "metadata": {},
   "outputs": [
    {
     "name": "stdout",
     "output_type": "stream",
     "text": [
      "[1, 2, 4, 8, 16, 32, 64, 128, 256]\n"
     ]
    }
   ],
   "source": [
    "\n",
    "def getFactors(n):\n",
    "\n",
    "    factors=[];\n",
    "\n",
    "    \n",
    "    for i in range(1, n + 1):\n",
    "        if n % i == 0:\n",
    "            factors.append(i)\n",
    "\n",
    "    \n",
    "    return factors\n",
    "\n",
    "\n",
    "print (getFactors(256))"
   ]
  },
  {
   "cell_type": "markdown",
   "metadata": {
    "id": "pGp6labk9NdX"
   },
   "source": [
    "#### Exercice 12\n",
    ">Écris un programme qui demande à l'utilisateur d'entrer un entier naturel n et de trouver tous sa factorielle n!  en utilisant la boucle **For**. On rappelle que $n!=n*(n-1)*(n-2)...3*2*1$."
   ]
  },
  {
   "cell_type": "code",
   "execution_count": 1,
   "metadata": {},
   "outputs": [
    {
     "name": "stdout",
     "output_type": "stream",
     "text": [
      "Entrez un nombre : 9\n",
      "9 ! =  362880\n"
     ]
    }
   ],
   "source": [
    "nbr = int(input('Entrez un nombre : '))\n",
    "fact = 1\n",
    "for i in range(1, nbr+1):\n",
    "  fact = fact * i\n",
    "print (nbr,'! = ',fact)"
   ]
  },
  {
   "cell_type": "markdown",
   "metadata": {
    "id": "eyKh1oTo9NdY"
   },
   "source": [
    "#### Exercice 13\n",
    ">Écris un programme qui demande à l'utilisateur d'entrer deux entiers naturels (plus petits que 15) et de trouver leur plus petit commun multiple utilisant la boucle **For**."
   ]
  },
  {
   "cell_type": "code",
   "execution_count": 3,
   "metadata": {
    "id": "ombGnLVQ9NdY"
   },
   "outputs": [],
   "source": [
    "def ppcm(*n):\n",
    "    #a = int(input('Entrez un nombre inferieur a 15 : '))\n",
    "    #b = int(input('Entrez un  autre nombre inferieur a 15 : '))\n",
    "    #if a<15\n",
    "    \"\"\"Calcul du 'Plus Petit Commun Multiple' de n (>=2) valeurs entières (Euclide)\"\"\"\n",
    "    def _pgcd(a,b):\n",
    "        while b: a, b = b, a%b\n",
    "        return a\n",
    "    p = abs(n[0]*n[1])//_pgcd(n[0], n[1])\n",
    "    for x in n[2:]:\n",
    "        p = abs(p*x)//_pgcd(p, x)\n",
    "    return p"
   ]
  },
  {
   "cell_type": "code",
   "execution_count": 4,
   "metadata": {},
   "outputs": [
    {
     "data": {
      "text/plain": [
       "45"
      ]
     },
     "execution_count": 4,
     "metadata": {},
     "output_type": "execute_result"
    }
   ],
   "source": [
    "ppcm(5,9)"
   ]
  },
  {
   "cell_type": "markdown",
   "metadata": {
    "id": "j4zO7-ak9NdZ"
   },
   "source": [
    "#### Exercice 14\n",
    ">Écris un programme pour afficher la série de Fibonacci jusqu'à n termes en utilisant une boucle."
   ]
  },
  {
   "cell_type": "code",
   "execution_count": 5,
   "metadata": {
    "id": "5UknLOdY9NdZ"
   },
   "outputs": [
    {
     "name": "stdout",
     "output_type": "stream",
     "text": [
      "Entrez un nombre: 5\n",
      "\n",
      " la suite fibonacci est :\n",
      "0 , 1, 1, 2, 3, "
     ]
    }
   ],
   "source": [
    "nterms = int(input(\"Entrez un nombre: \"))\n",
    " \n",
    "n1 = 0\n",
    "n2 = 1\n",
    " \n",
    "print(\"\\n la suite fibonacci est :\")\n",
    "print(n1, \",\", n2, end=\", \")\n",
    " \n",
    "for i in range(2, nterms):\n",
    "  suivant = n1 + n2\n",
    "  print(suivant, end=\", \")\n",
    " \n",
    "  n1 = n2\n",
    "  n2 = suivant"
   ]
  },
  {
   "cell_type": "markdown",
   "metadata": {
    "id": "_RBVFZdl9Nda"
   },
   "source": [
    "#### Exercice 15\n",
    ">Écris, en utilisant une boucle **For**, un programme pour afficher 5 fois de suite le message \"Python est un très bon langage de programmation\"."
   ]
  },
  {
   "cell_type": "code",
   "execution_count": 6,
   "metadata": {
    "id": "IA5dPbgd9Nda"
   },
   "outputs": [
    {
     "name": "stdout",
     "output_type": "stream",
     "text": [
      "python est un tres bon langage\n",
      "python est un tres bon langage\n",
      "python est un tres bon langage\n",
      "python est un tres bon langage\n",
      "python est un tres bon langage\n"
     ]
    }
   ],
   "source": [
    "l=\"python est un tres bon langage\"\n",
    "for i in range (1,6):\n",
    "    print(l)"
   ]
  },
  {
   "cell_type": "markdown",
   "metadata": {
    "id": "VUgurSg59Nda"
   },
   "source": [
    "#### Exercice 16\n",
    ">Écris, en utilisant une boucle **While**, un programme pour afficher 7 fois de suite le message \"A cette allure je finirai par tout abandonner pour la programmation\"."
   ]
  },
  {
   "cell_type": "code",
   "execution_count": 5,
   "metadata": {
    "id": "TgE99bdh9Ndb"
   },
   "outputs": [
    {
     "name": "stdout",
     "output_type": "stream",
     "text": [
      "A cette allure je finirai par tout abandonner pour la programmation\n",
      "A cette allure je finirai par tout abandonner pour la programmation\n",
      "A cette allure je finirai par tout abandonner pour la programmation\n",
      "A cette allure je finirai par tout abandonner pour la programmation\n",
      "A cette allure je finirai par tout abandonner pour la programmation\n",
      "A cette allure je finirai par tout abandonner pour la programmation\n"
     ]
    }
   ],
   "source": [
    "h=\"A cette allure je finirai par tout abandonner pour la programmation\"\n",
    "i=1\n",
    "while i<=6:\n",
    "    print(h)\n",
    "    i=i+1\n"
   ]
  },
  {
   "cell_type": "markdown",
   "metadata": {
    "id": "DVgTXQRX9Ndb"
   },
   "source": [
    "#### Exercice 17\n",
    ">Écris, en utilisant une boucle **For**, un programme qui compte à l'envers de 10 à 0 puis qui affiche le message \"Partez\".\n"
   ]
  },
  {
   "cell_type": "code",
   "execution_count": 10,
   "metadata": {},
   "outputs": [
    {
     "name": "stdout",
     "output_type": "stream",
     "text": [
      "10\n",
      "9\n",
      "8\n",
      "7\n",
      "6\n",
      "5\n",
      "4\n",
      "3\n",
      "2\n",
      "1\n",
      "0\n",
      " \"Partez\"\n"
     ]
    }
   ],
   "source": [
    "for i in range(10,-1,-1):\n",
    "    print(i)\n",
    "print(' \"Partez\"')"
   ]
  },
  {
   "cell_type": "markdown",
   "metadata": {
    "id": "raJAaAd29Ndc"
   },
   "source": [
    "#### Exercice 18\n",
    ">Écris, en utilisant une boucle **For**, un programme qui affiche chaque élément d'une chaine de caractère."
   ]
  },
  {
   "cell_type": "code",
   "execution_count": 19,
   "metadata": {
    "id": "wZv1gX4c9Ndd"
   },
   "outputs": [
    {
     "name": "stdout",
     "output_type": "stream",
     "text": [
      "b\n",
      "o\n",
      "n\n",
      "j\n",
      "o\n",
      "u\n",
      "r\n",
      " \n",
      "t\n",
      "o\n",
      "u\n",
      "t\n",
      " \n",
      "l\n",
      "e\n",
      " \n",
      "m\n",
      "o\n",
      "n\n",
      "d\n",
      "e\n"
     ]
    }
   ],
   "source": [
    "a=\"bonjour tout le monde\"\n",
    "for i in range(0,len(a)):\n",
    "    print(a[i])\n"
   ]
  },
  {
   "cell_type": "markdown",
   "metadata": {
    "id": "095_Dtoc9Ndf"
   },
   "source": [
    "#### Exercice 19\n",
    ">Écris, en utilisant une boucle **For**, un programme qui compte à l'envers de 10 à 0 puis qui affiche le message \"Partez\"."
   ]
  },
  {
   "cell_type": "code",
   "execution_count": null,
   "metadata": {
    "id": "MOV4pZzn9Ndg"
   },
   "outputs": [],
   "source": []
  },
  {
   "cell_type": "markdown",
   "metadata": {
    "id": "5sUU7dgJ9Ndh"
   },
   "source": [
    "<center> <b> <span style=\"color:orange;\"> 🎉 FÉLICITATIONS ! / CONGRATULATIONS! 🎉 </span> </b></center>"
   ]
  }
 ],
 "metadata": {
  "colab": {
   "name": "Exercices_03_Boucles.ipynb",
   "provenance": []
  },
  "kernelspec": {
   "display_name": "Python 3",
   "language": "python",
   "name": "python3"
  },
  "language_info": {
   "codemirror_mode": {
    "name": "ipython",
    "version": 3
   },
   "file_extension": ".py",
   "mimetype": "text/x-python",
   "name": "python",
   "nbconvert_exporter": "python",
   "pygments_lexer": "ipython3",
   "version": "3.7.3"
  }
 },
 "nbformat": 4,
 "nbformat_minor": 1
}
