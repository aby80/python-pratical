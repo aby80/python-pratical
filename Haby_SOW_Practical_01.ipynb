{
 "cells": [
  {
   "cell_type": "markdown",
   "metadata": {},
   "source": [
    "<center>\n",
    "    <a href=\"https://www.aims-senegal.org/\" ><img src=\"aimssn_logo.png\" style=\"float:center; max-width: 600px; display: inline\" alt=\"IMSP\"/> </a>\n",
    "    </center>\n",
    "    \n",
    "#    <center> <b> <span style=\"color:orange;\" >  `Python for Scientific Computing and Software Engineering ` </span> </b></center>\n",
    "\n",
    "\n",
    "## <center> <b> <span style=\"color:orange;\"> An Initiation to Programming using Python (Init2Py) </span> </b></center>\n",
    "\n",
    "### <center> <b> <span style=\"color:blue;\"> Practicals: Variables, Types & Operations </span> </b></center>"
   ]
  },
  {
   "cell_type": "markdown",
   "metadata": {},
   "source": [
    "**Exercise 00:**  \n",
    "\n",
    "> 1. Declare a variable `firstname` and assign it a value.\n",
    "> 2. Declare a `lastname` variable and assign a value to it.\n",
    "> 3. Declare a `full_name` variable and assign it a value.\n",
    "> 4. Declare a `country` variable and assign it a value.\n",
    "> 5. Declare a variable `city` and assign it a value.\n",
    "> 6. Declare a `age` variable and assign it a value.\n",
    "> 7. Declare a variable `year` and assign it a value.\n",
    "> 8. Declare a variable `is_marrie` and assign it a value.\n",
    "> 9. Declare a variable `is_true` and assign it a value.\n",
    "\n",
    "> For each of the above variable, display the value it contains using the `print()` function.\n",
    "\n",
    "\n"
   ]
  },
  {
   "cell_type": "code",
   "execution_count": 6,
   "metadata": {},
   "outputs": [
    {
     "name": "stdout",
     "output_type": "stream",
     "text": [
      "Haby SOW Haby SOW senegal Dakar 27 1994 No True\n"
     ]
    }
   ],
   "source": [
    "firstname=\"Haby\"\n",
    "lastname=\"SOW\"\n",
    "full_name=\"Haby SOW\"\n",
    "country=\"senegal\"\n",
    "city=\"Dakar\"\n",
    "age=\"27\"\n",
    "year=\"1994\"\n",
    "is_marrie=\"No\"\n",
    "is_true=\"True\"\n",
    "print(firstname,lastname,full_name,country,city,age,year,is_marrie,is_true)\n",
    "\n"
   ]
  },
  {
   "cell_type": "markdown",
   "metadata": {},
   "source": [
    "**Exercise 01:** \n",
    "> Check the data type of all your variables using the built-in function `type()`.**\n"
   ]
  },
  {
   "cell_type": "code",
   "execution_count": 21,
   "metadata": {},
   "outputs": [
    {
     "data": {
      "text/plain": [
       "str"
      ]
     },
     "execution_count": 21,
     "metadata": {},
     "output_type": "execute_result"
    }
   ],
   "source": [
    "firstname=\"Haby\"\n",
    "type(firstname)\n",
    "lastname=\"SOW\"\n",
    "type(lastname)\n",
    "full_name=\"Haby SOW\"\n",
    "type(full_name)\n",
    "country=\"senegal\"\n",
    "type(country)\n",
    "city=\"Dakar\"\n",
    "type(city)\n",
    "age=\"27\"\n",
    "type(age)\n",
    "year=\"1994\"\n",
    "type(year)\n",
    "is_marrie=\"No\"\n",
    "type(is_marrie)\n",
    "is_true=\"True\"\n",
    "type(is_true)\n",
    "\n"
   ]
  },
  {
   "cell_type": "markdown",
   "metadata": {},
   "source": [
    "**Exercise 02:** \n",
    "> Calculate the value of $y$ ($y = x^2 + 6x + 9$). Try using different values of $x$ and determine at what value of $x$ will $y$ be equal to 0.**"
   ]
  },
  {
   "cell_type": "code",
   "execution_count": 3,
   "metadata": {},
   "outputs": [
    {
     "name": "stdout",
     "output_type": "stream",
     "text": [
      "0\n",
      "1\n",
      "4\n",
      "9\n",
      "16\n",
      "25\n"
     ]
    }
   ],
   "source": [
    "for x in range(-3,3):\n",
    "    \n",
    "    y=x**2+6*x+9\n",
    "    print(y)\n",
    "\n",
    "\n"
   ]
  },
  {
   "cell_type": "markdown",
   "metadata": {},
   "source": [
    "**Exercise 03:** \n",
    ">    \n",
    "     1. Declare your age as an integer variable\n",
    "     2. Declare your height as a float variable\n",
    "     3. Declare a variable that stores the base and height of a triangle. Calculate the area of this triangle (area = 0.5 x b x h)."
   ]
  },
  {
   "cell_type": "code",
   "execution_count": null,
   "metadata": {},
   "outputs": [],
   "source": []
  },
  {
   "cell_type": "code",
   "execution_count": 3,
   "metadata": {},
   "outputs": [
    {
     "name": "stdout",
     "output_type": "stream",
     "text": [
      "1.78\n"
     ]
    }
   ],
   "source": [
    "age=18\n",
    "age=int(age)\n",
    "taille=1.78\n",
    "taille=float(taille)\n",
    "base=2\n",
    "store=(base,taille)\n",
    "area=0.5*store[0]*store[1]\n",
    "print(area)"
   ]
  },
  {
   "cell_type": "markdown",
   "metadata": {},
   "source": [
    "**Exercise 04:** \n",
    "> **Write a small code that asks the user to enter the side $a$, the side $b$ and the side $c$ of a triangle. Calculate the perimeter of the triangle (perimeter = a + b + c).**"
   ]
  },
  {
   "cell_type": "code",
   "execution_count": 9,
   "metadata": {},
   "outputs": [
    {
     "name": "stdout",
     "output_type": "stream",
     "text": [
      "donner le coter a2\n",
      "donner le coter b5\n",
      "donner le coter c4\n",
      "11\n"
     ]
    }
   ],
   "source": [
    "a=int(input(\"donner le coter a\"))\n",
    "b=int(input(\"donner le coter b\"))\n",
    "c=int(input(\"donner le coter c\"))\n",
    "\n",
    "perimetre=a++b++c\n",
    "\n",
    "print(perimetre)"
   ]
  },
  {
   "cell_type": "markdown",
   "metadata": {},
   "source": [
    "**Exercise 05:** \n",
    "> **Obtain the length and width of a rectangle using the prompt. Calculate its `area`and its `perimeter`.**"
   ]
  },
  {
   "cell_type": "code",
   "execution_count": 5,
   "metadata": {},
   "outputs": [
    {
     "name": "stdout",
     "output_type": "stream",
     "text": [
      "entrer la longueur du rectangle2\n",
      "entrer la largeur du rectangle4\n",
      "8\n"
     ]
    }
   ],
   "source": [
    "L=int(input(\"entrer la longueur du rectangle\"))\n",
    "l=int(input(\"entrer la largeur du rectangle\"))\n",
    "surface=L*l\n",
    "print(surface)"
   ]
  },
  {
   "cell_type": "markdown",
   "metadata": {},
   "source": [
    "**Exercice 06:** \n",
    "> **Obtenez le rayon d'un cercle en utilisant l'invite. Calculez l'aire (aire = pi x r x r) et la circonférence (c = 2 x pi x r) où pi = 3,14.**"
   ]
  },
  {
   "cell_type": "code",
   "execution_count": 12,
   "metadata": {},
   "outputs": [
    {
     "name": "stdout",
     "output_type": "stream",
     "text": [
      "donner le rayon r 2\n",
      "12.56 2.0\n"
     ]
    }
   ],
   "source": [
    "r=float(input(\"donner le rayon r \"))\n",
    "pi=3.14\n",
    "aire=pi*r*r\n",
    "c=2*pi*r\n",
    "print(aire,r)"
   ]
  },
  {
   "cell_type": "markdown",
   "metadata": {},
   "source": [
    "**Exercice 07:**\n",
    "> **Calculez la pente, l'ordonnée à l'origine en x et l'ordonnée à l'origine en $y$ de $y = 2x -2$.**"
   ]
  },
  {
   "cell_type": "code",
   "execution_count": 18,
   "metadata": {},
   "outputs": [
    {
     "name": "stdout",
     "output_type": "stream",
     "text": [
      "x1 1\n",
      "x2 2\n",
      "y1 3\n",
      "y2 4\n",
      "1 3\n"
     ]
    }
   ],
   "source": [
    "x1=int(input(\"x1 \"))\n",
    "x2=int(input(\"x2 \"))\n",
    "y1=int(input(\"y1 \"))\n",
    "y2=int(input(\"y2 \"))\n",
    "a=(y2-y1)/(x2-x1)\n",
    "b=y1-a*x1\n",
    "print(x1,y1)\n"
   ]
  },
  {
   "cell_type": "code",
   "execution_count": 19,
   "metadata": {},
   "outputs": [
    {
     "name": "stdout",
     "output_type": "stream",
     "text": [
      "x5\n",
      "8\n"
     ]
    }
   ],
   "source": [
    "x=int(input(\"x\"))\n",
    "a=2\n",
    "b=-2\n",
    "y=a*x+b\n",
    "print(y)"
   ]
  },
  {
   "cell_type": "markdown",
   "metadata": {},
   "source": [
    "**Exercice 08:** \n",
    "> **Rédigez un script qui demande à l'utilisateur d'entrer les heures et le taux horaire. Calculez la rémunération de la personne ?**"
   ]
  },
  {
   "cell_type": "code",
   "execution_count": 7,
   "metadata": {},
   "outputs": [
    {
     "name": "stdout",
     "output_type": "stream",
     "text": [
      "entrer vos heures de travail dans la semaine25\n",
      "entrer votre salaire200000\n",
      "8000.0\n"
     ]
    }
   ],
   "source": [
    "h=int(input(\"entrer vos heures de travail dans le mois\"))\n",
    "s=float(input(\"entrer votre salaire\"))\n",
    "renumeration=s/h\n",
    "print(renumeration)"
   ]
  },
  {
   "cell_type": "markdown",
   "metadata": {},
   "source": [
    "**Exercice 09:** \n",
    "> **Écrivez un script qui demande à l'utilisateur d'entrer le nombre d'années. Calculez le nombre de secondes qu'une personne peut vivre. Supposons qu'une personne puisse vivre cent ans.**"
   ]
  },
  {
   "cell_type": "code",
   "execution_count": 5,
   "metadata": {},
   "outputs": [
    {
     "name": "stdout",
     "output_type": "stream",
     "text": [
      "donner votre age100\n",
      "3153600000\n"
     ]
    }
   ],
   "source": [
    "a=int(input(\"donner votre age\"))\n",
    "s=1\n",
    "minu=60*s\n",
    "H=60*minu\n",
    "jr=24*H\n",
    "ans=365*jr\n",
    "nbr_s=a*ans\n",
    "print(nbr_s)"
   ]
  },
  {
   "cell_type": "markdown",
   "metadata": {},
   "source": [
    "**Exercice 10:** \n",
    "> **Écrivez un script Python qui affiche le tableau suivant**\n",
    "\n",
    "    1 1 1 1 1\n",
    "    \n",
    "    2 1 2 4 8\n",
    "    \n",
    "    3 1 3 9 27\n",
    "    \n",
    "    4 1 4 16 64\n",
    "    \n",
    "    5 1 5 25 125"
   ]
  },
  {
   "cell_type": "code",
   "execution_count": null,
   "metadata": {},
   "outputs": [],
   "source": []
  },
  {
   "cell_type": "code",
   "execution_count": 7,
   "metadata": {},
   "outputs": [
    {
     "name": "stdout",
     "output_type": "stream",
     "text": [
      "[[  1   1   1   1   1]\n",
      " [  2   1   2   4   8]\n",
      " [  3   1   3   9  27]\n",
      " [  4   1   4  16  64]\n",
      " [  5   1   5  25 125]]\n"
     ]
    }
   ],
   "source": [
    "import numpy as np\n",
    "\n",
    "Tab=np.array([\n",
    "    [1, 1, 1, 1, 1],\n",
    "    [2, 1, 2, 4, 8],\n",
    "    [3, 1, 3, 9, 27],\n",
    "    [4, 1, 4, 16, 64],\n",
    "    [5, 1, 5, 25, 125]\n",
    "])\n",
    "print(Tab)"
   ]
  },
  {
   "cell_type": "markdown",
   "metadata": {},
   "source": [
    "**Exercise 11:** \n",
    ">**Assign the variables `time` and `distance` with the values $6.892$ and $19.7$. Calculate and display the value of the speed. Improve the display by imposing a digit after the decimal point.**"
   ]
  },
  {
   "cell_type": "code",
   "execution_count": 9,
   "metadata": {},
   "outputs": [
    {
     "name": "stdout",
     "output_type": "stream",
     "text": [
      "2.8583865351131745\n",
      "2.86\n"
     ]
    }
   ],
   "source": [
    "t=6.892\n",
    "D=19.7\n",
    "V=D/t\n",
    "print(V)\n",
    "Varrondi= round(V, 2)\n",
    "print(Varrondi)"
   ]
  },
  {
   "cell_type": "markdown",
   "metadata": {},
   "source": [
    "**Exercice 12:** \n",
    "> **Écrire un programme qui, à partir de la saisie d’un rayon et d’une hauteur, calcule levolume d’un cône droit.**"
   ]
  },
  {
   "cell_type": "code",
   "execution_count": 11,
   "metadata": {},
   "outputs": [
    {
     "name": "stdout",
     "output_type": "stream",
     "text": [
      "donner la valeur de rayon2\n",
      "donner la valeur de la hauteur12\n",
      "50.239999999999995\n"
     ]
    }
   ],
   "source": [
    "r=float(input(\"donner la valeur de rayon\"))\n",
    "h=float(input(\"donner la valeur de la hauteur\"))\n",
    "pi=3.14\n",
    "B=pi*r*r\n",
    "VCONE=1/3*B*h\n",
    "print(VCONE)"
   ]
  },
  {
   "cell_type": "markdown",
   "metadata": {},
   "source": [
    "**Exercise 13:** \n",
    "> **The user gives a positive integer and the program announces how many times in a row this integer is divisible by 2.**"
   ]
  },
  {
   "cell_type": "code",
   "execution_count": null,
   "metadata": {},
   "outputs": [],
   "source": [
    "x=int(input(\"donner la valeur de x\"))\n",
    "i=2\n",
    "while  (x % i ==0):\n",
    "  print(i)\n",
    "  x = x //2\n"
   ]
  },
  {
   "cell_type": "markdown",
   "metadata": {},
   "source": [
    "**Exercise 14:** \n",
    ">**The user gives an integer between 2 and 12, the program gives the number of ways to do this by rolling two dice."
   ]
  },
  {
   "cell_type": "code",
   "execution_count": null,
   "metadata": {},
   "outputs": [],
   "source": []
  },
  {
   "cell_type": "markdown",
   "metadata": {},
   "source": [
    "**Exercice 15:** \n",
    "> **Utilisez la fonction d'entrée intégrée `input()` pour obtenir le `_prénom_`, le `_nom_`, le `_pays_d_origine` et l'`_age_` d'un utilisateur et stockez la valeur dans les noms des variables correspondantes.**"
   ]
  },
  {
   "cell_type": "code",
   "execution_count": 14,
   "metadata": {},
   "outputs": [
    {
     "name": "stdout",
     "output_type": "stream",
     "text": [
      "donner votre prenomhaby\n",
      "donner votre nomsow\n",
      "donner votre pays d'originesen\n",
      "donner votre age45\n",
      "haby sow sen 45\n"
     ]
    }
   ],
   "source": [
    "prenom=str(input(\"donner votre prenom\"))\n",
    "nom=str(input(\"donner votre nom\"))\n",
    "PO=str(input(\"donner votre pays d'origine\"))\n",
    "age=int(input(\"donner votre age\"))\n",
    "val_prenom=prenom\n",
    "val_nom=nom\n",
    "val_PO=PO\n",
    "val_age=age\n",
    "print(val_prenom,val_nom,val_PO,val_age)\n"
   ]
  },
  {
   "cell_type": "markdown",
   "metadata": {},
   "source": [
    "**Exercice 16:** \n",
    "\n",
    "**Déclarer $5$ comme `num_one` et $4$ comme `num_two`**\n",
    "\n",
    "   1. Additionner `num_one` et `num_two` et affecter la valeur à une variable `totale`.\n",
    "   2. Soustraire `num_two` de `num_one` et affecter la valeur à une variable `diff`.\n",
    "   3. Multipliez le `num_one` et le `num_two` et attribuez la valeur à une variable `produit`.\n",
    "   4. Divisez le `num_one` par le `num_two` et attribuez la valeur à une variable `division`.\n",
    "   5. Calculez `num_one` à la puissance de `num_two` et attribuez la valeur à une variable `exp`."
   ]
  },
  {
   "cell_type": "code",
   "execution_count": 17,
   "metadata": {},
   "outputs": [
    {
     "name": "stdout",
     "output_type": "stream",
     "text": [
      "9 -1 20 1.25 625\n"
     ]
    }
   ],
   "source": [
    "num_one=5\n",
    "num_two=4\n",
    "total=num_one+num_two\n",
    "diff=num_two-num_one\n",
    "produit=num_one*num_two\n",
    "division=num_one/num_two\n",
    "exp=num_one**num_two\n",
    "print(total,diff,produit,division,exp)"
   ]
  },
  {
   "cell_type": "markdown",
   "metadata": {},
   "source": [
    "<center> <b> <span style=\"color:orange;\"> 🎉 FÉLICITATIONS! / CONGRATULATIONS! 🎉 </span> </b></center>"
   ]
  }
 ],
 "metadata": {
  "kernelspec": {
   "display_name": "Python 3",
   "language": "python",
   "name": "python3"
  },
  "language_info": {
   "codemirror_mode": {
    "name": "ipython",
    "version": 3
   },
   "file_extension": ".py",
   "mimetype": "text/x-python",
   "name": "python",
   "nbconvert_exporter": "python",
   "pygments_lexer": "ipython3",
   "version": "3.7.3"
  }
 },
 "nbformat": 4,
 "nbformat_minor": 5
}
